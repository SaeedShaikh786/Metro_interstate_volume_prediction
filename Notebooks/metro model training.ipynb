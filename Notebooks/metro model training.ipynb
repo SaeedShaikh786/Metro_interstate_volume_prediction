{
 "cells": [
  {
   "cell_type": "markdown",
   "id": "22fadcee-f7ee-413e-8bad-e651629a1fa0",
   "metadata": {},
   "source": [
    "## Metro Traffic volume dataset  "
   ]
  },
  {
   "cell_type": "code",
   "execution_count": 1,
   "id": "edf3e9ae-ef25-4ca5-a907-0341ba8c42be",
   "metadata": {
    "tags": []
   },
   "outputs": [],
   "source": [
    "import pandas as pd\n",
    "import numpy as np\n",
    "import matplotlib.pyplot as plt\n",
    "import seaborn as sns\n",
    "import warnings"
   ]
  },
  {
   "cell_type": "code",
   "execution_count": 2,
   "id": "701b3c6e-9e19-497d-bcb5-8040a214483f",
   "metadata": {},
   "outputs": [],
   "source": [
    "warnings.filterwarnings('ignore') \n",
    "  "
   ]
  },
  {
   "cell_type": "code",
   "execution_count": 3,
   "id": "abc7e8b2-acbb-4abf-82ab-344b6d83176c",
   "metadata": {},
   "outputs": [],
   "source": [
    "data=pd.read_csv(\"https://raw.githubusercontent.com/SaeedShaikh786/demo_pipeline/main/notebook/data/Metro_Interstate_Traffic_Volume.csv\")"
   ]
  },
  {
   "cell_type": "markdown",
   "id": "2d541d1b-1ea1-4e95-8610-8e3d2158e2df",
   "metadata": {},
   "source": [
    "### tasks to do\n",
    "- drop rain\n",
    "- drop snow\n",
    "- drop holiday\n",
    "- create weekday column\n",
    "- check the categories weather_main and weather_description\n",
    "- make hours in parts categorical"
   ]
  },
  {
   "cell_type": "markdown",
   "id": "48833844-49ba-443e-90ec-17115a2cd773",
   "metadata": {},
   "source": [
    "# Data description\n",
    "\n",
    "```\n",
    "holiday                Categorical    US National holidays plus regional holiday, Minnesota State Fair\n",
    "temp                   Numeric        Average temp in kelvin\n",
    "rain_1h                Numeric        Amount in mm of rain that occurred in the hour\n",
    "snow_1h                Numeric        Amount in mm of snow that occurred in the hour\n",
    "clouds_all             Numeric        Percentage of cloud cover\n",
    "weather_main           Categorical    Short textual description of the current weather\n",
    "weather_description    Categorical    Longer textual description of the current weather\n",
    "date_time              DateTime       Hour of the data collected in local CST time\n",
    "traffic_volume         Numeric        Hourly I-94 ATR 301 reported westbound traffic volume\n",
    "```"
   ]
  },
  {
   "cell_type": "code",
   "execution_count": null,
   "id": "f70bc18b-5e1f-4d5f-9d1c-2b0bf28ed11c",
   "metadata": {},
   "outputs": [],
   "source": [
    "data.head(10)"
   ]
  },
  {
   "cell_type": "code",
   "execution_count": null,
   "id": "f7b2a92b-ad63-4e10-bb2c-0e2cec795ceb",
   "metadata": {},
   "outputs": [],
   "source": [
    "data.holiday.value_counts()"
   ]
  },
  {
   "cell_type": "code",
   "execution_count": null,
   "id": "9ce22b13-73c2-4372-a78c-72fd6d4b78d1",
   "metadata": {},
   "outputs": [],
   "source": [
    "(data.holiday!=\"None\").sum()"
   ]
  },
  {
   "cell_type": "code",
   "execution_count": null,
   "id": "9d5a375b-7ce3-459b-8633-07f3d3ef8c67",
   "metadata": {},
   "outputs": [],
   "source": [
    "data.temp.describe()"
   ]
  },
  {
   "cell_type": "code",
   "execution_count": null,
   "id": "8c9ebc5b-23b5-4388-a755-64fdabc01b53",
   "metadata": {},
   "outputs": [],
   "source": [
    "data.describe()"
   ]
  },
  {
   "cell_type": "code",
   "execution_count": null,
   "id": "69ee1391-b5e3-4c80-becf-aedfbff8928b",
   "metadata": {},
   "outputs": [],
   "source": []
  },
  {
   "cell_type": "code",
   "execution_count": 4,
   "id": "66a3e305-da1a-401d-b552-d92ec20fa00f",
   "metadata": {},
   "outputs": [],
   "source": [
    "data[\"date_time\"]=pd.to_datetime(data[\"date_time\"])\n"
   ]
  },
  {
   "cell_type": "code",
   "execution_count": 5,
   "id": "cf625cb5-1cc4-4681-8d9d-7fe9c45ed3d9",
   "metadata": {},
   "outputs": [
    {
     "data": {
      "text/html": [
       "<div>\n",
       "<style scoped>\n",
       "    .dataframe tbody tr th:only-of-type {\n",
       "        vertical-align: middle;\n",
       "    }\n",
       "\n",
       "    .dataframe tbody tr th {\n",
       "        vertical-align: top;\n",
       "    }\n",
       "\n",
       "    .dataframe thead th {\n",
       "        text-align: right;\n",
       "    }\n",
       "</style>\n",
       "<table border=\"1\" class=\"dataframe\">\n",
       "  <thead>\n",
       "    <tr style=\"text-align: right;\">\n",
       "      <th></th>\n",
       "      <th>holiday</th>\n",
       "      <th>temp</th>\n",
       "      <th>rain_1h</th>\n",
       "      <th>snow_1h</th>\n",
       "      <th>clouds_all</th>\n",
       "      <th>weather_main</th>\n",
       "      <th>weather_description</th>\n",
       "      <th>date_time</th>\n",
       "      <th>traffic_volume</th>\n",
       "    </tr>\n",
       "  </thead>\n",
       "  <tbody>\n",
       "    <tr>\n",
       "      <th>0</th>\n",
       "      <td>None</td>\n",
       "      <td>288.28</td>\n",
       "      <td>0.0</td>\n",
       "      <td>0.0</td>\n",
       "      <td>40</td>\n",
       "      <td>Clouds</td>\n",
       "      <td>scattered clouds</td>\n",
       "      <td>2012-02-10 09:00:00</td>\n",
       "      <td>5545</td>\n",
       "    </tr>\n",
       "    <tr>\n",
       "      <th>1</th>\n",
       "      <td>None</td>\n",
       "      <td>289.36</td>\n",
       "      <td>0.0</td>\n",
       "      <td>0.0</td>\n",
       "      <td>75</td>\n",
       "      <td>Clouds</td>\n",
       "      <td>broken clouds</td>\n",
       "      <td>2012-02-10 10:00:00</td>\n",
       "      <td>4516</td>\n",
       "    </tr>\n",
       "    <tr>\n",
       "      <th>2</th>\n",
       "      <td>None</td>\n",
       "      <td>289.58</td>\n",
       "      <td>0.0</td>\n",
       "      <td>0.0</td>\n",
       "      <td>90</td>\n",
       "      <td>Clouds</td>\n",
       "      <td>overcast clouds</td>\n",
       "      <td>2012-02-10 11:00:00</td>\n",
       "      <td>4767</td>\n",
       "    </tr>\n",
       "    <tr>\n",
       "      <th>3</th>\n",
       "      <td>None</td>\n",
       "      <td>290.13</td>\n",
       "      <td>0.0</td>\n",
       "      <td>0.0</td>\n",
       "      <td>90</td>\n",
       "      <td>Clouds</td>\n",
       "      <td>overcast clouds</td>\n",
       "      <td>2012-02-10 12:00:00</td>\n",
       "      <td>5026</td>\n",
       "    </tr>\n",
       "    <tr>\n",
       "      <th>4</th>\n",
       "      <td>None</td>\n",
       "      <td>291.14</td>\n",
       "      <td>0.0</td>\n",
       "      <td>0.0</td>\n",
       "      <td>75</td>\n",
       "      <td>Clouds</td>\n",
       "      <td>broken clouds</td>\n",
       "      <td>2012-02-10 13:00:00</td>\n",
       "      <td>4918</td>\n",
       "    </tr>\n",
       "    <tr>\n",
       "      <th>...</th>\n",
       "      <td>...</td>\n",
       "      <td>...</td>\n",
       "      <td>...</td>\n",
       "      <td>...</td>\n",
       "      <td>...</td>\n",
       "      <td>...</td>\n",
       "      <td>...</td>\n",
       "      <td>...</td>\n",
       "      <td>...</td>\n",
       "    </tr>\n",
       "    <tr>\n",
       "      <th>48199</th>\n",
       "      <td>None</td>\n",
       "      <td>283.45</td>\n",
       "      <td>0.0</td>\n",
       "      <td>0.0</td>\n",
       "      <td>75</td>\n",
       "      <td>Clouds</td>\n",
       "      <td>broken clouds</td>\n",
       "      <td>2018-09-30 19:00:00</td>\n",
       "      <td>3543</td>\n",
       "    </tr>\n",
       "    <tr>\n",
       "      <th>48200</th>\n",
       "      <td>None</td>\n",
       "      <td>282.76</td>\n",
       "      <td>0.0</td>\n",
       "      <td>0.0</td>\n",
       "      <td>90</td>\n",
       "      <td>Clouds</td>\n",
       "      <td>overcast clouds</td>\n",
       "      <td>2018-09-30 20:00:00</td>\n",
       "      <td>2781</td>\n",
       "    </tr>\n",
       "    <tr>\n",
       "      <th>48201</th>\n",
       "      <td>None</td>\n",
       "      <td>282.73</td>\n",
       "      <td>0.0</td>\n",
       "      <td>0.0</td>\n",
       "      <td>90</td>\n",
       "      <td>Thunderstorm</td>\n",
       "      <td>proximity thunderstorm</td>\n",
       "      <td>2018-09-30 21:00:00</td>\n",
       "      <td>2159</td>\n",
       "    </tr>\n",
       "    <tr>\n",
       "      <th>48202</th>\n",
       "      <td>None</td>\n",
       "      <td>282.09</td>\n",
       "      <td>0.0</td>\n",
       "      <td>0.0</td>\n",
       "      <td>90</td>\n",
       "      <td>Clouds</td>\n",
       "      <td>overcast clouds</td>\n",
       "      <td>2018-09-30 22:00:00</td>\n",
       "      <td>1450</td>\n",
       "    </tr>\n",
       "    <tr>\n",
       "      <th>48203</th>\n",
       "      <td>None</td>\n",
       "      <td>282.12</td>\n",
       "      <td>0.0</td>\n",
       "      <td>0.0</td>\n",
       "      <td>90</td>\n",
       "      <td>Clouds</td>\n",
       "      <td>overcast clouds</td>\n",
       "      <td>2018-09-30 23:00:00</td>\n",
       "      <td>954</td>\n",
       "    </tr>\n",
       "  </tbody>\n",
       "</table>\n",
       "<p>48204 rows × 9 columns</p>\n",
       "</div>"
      ],
      "text/plain": [
       "      holiday    temp  rain_1h  snow_1h  clouds_all  weather_main  \\\n",
       "0        None  288.28      0.0      0.0          40        Clouds   \n",
       "1        None  289.36      0.0      0.0          75        Clouds   \n",
       "2        None  289.58      0.0      0.0          90        Clouds   \n",
       "3        None  290.13      0.0      0.0          90        Clouds   \n",
       "4        None  291.14      0.0      0.0          75        Clouds   \n",
       "...       ...     ...      ...      ...         ...           ...   \n",
       "48199    None  283.45      0.0      0.0          75        Clouds   \n",
       "48200    None  282.76      0.0      0.0          90        Clouds   \n",
       "48201    None  282.73      0.0      0.0          90  Thunderstorm   \n",
       "48202    None  282.09      0.0      0.0          90        Clouds   \n",
       "48203    None  282.12      0.0      0.0          90        Clouds   \n",
       "\n",
       "          weather_description           date_time  traffic_volume  \n",
       "0            scattered clouds 2012-02-10 09:00:00            5545  \n",
       "1               broken clouds 2012-02-10 10:00:00            4516  \n",
       "2             overcast clouds 2012-02-10 11:00:00            4767  \n",
       "3             overcast clouds 2012-02-10 12:00:00            5026  \n",
       "4               broken clouds 2012-02-10 13:00:00            4918  \n",
       "...                       ...                 ...             ...  \n",
       "48199           broken clouds 2018-09-30 19:00:00            3543  \n",
       "48200         overcast clouds 2018-09-30 20:00:00            2781  \n",
       "48201  proximity thunderstorm 2018-09-30 21:00:00            2159  \n",
       "48202         overcast clouds 2018-09-30 22:00:00            1450  \n",
       "48203         overcast clouds 2018-09-30 23:00:00             954  \n",
       "\n",
       "[48204 rows x 9 columns]"
      ]
     },
     "execution_count": 5,
     "metadata": {},
     "output_type": "execute_result"
    }
   ],
   "source": [
    "data"
   ]
  },
  {
   "cell_type": "code",
   "execution_count": 2,
   "id": "62681e76",
   "metadata": {},
   "outputs": [
    {
     "name": "stdout",
     "output_type": "stream",
     "text": [
      "Collecting mlflow\n",
      "  Using cached mlflow-2.7.1-py3-none-any.whl (18.5 MB)\n",
      "Requirement already satisfied: markdown<4,>=3.3 in c:\\users\\admin\\anaconda3\\lib\\site-packages (from mlflow) (3.3.4)\n",
      "Collecting sqlparse<1,>=0.4.0\n",
      "  Using cached sqlparse-0.4.4-py3-none-any.whl (41 kB)\n",
      "Requirement already satisfied: numpy<2 in c:\\users\\admin\\anaconda3\\lib\\site-packages (from mlflow) (1.21.5)\n",
      "Requirement already satisfied: click<9,>=7.0 in c:\\users\\admin\\anaconda3\\lib\\site-packages (from mlflow) (8.0.4)\n",
      "Requirement already satisfied: protobuf<5,>=3.12.0 in c:\\users\\admin\\anaconda3\\lib\\site-packages (from mlflow) (3.19.1)\n",
      "Requirement already satisfied: entrypoints<1 in c:\\users\\admin\\anaconda3\\lib\\site-packages (from mlflow) (0.4)\n",
      "Requirement already satisfied: matplotlib<4 in c:\\users\\admin\\anaconda3\\lib\\site-packages (from mlflow) (3.5.1)\n",
      "Requirement already satisfied: packaging<24 in c:\\users\\admin\\anaconda3\\lib\\site-packages (from mlflow) (21.3)\n",
      "Requirement already satisfied: cloudpickle<3 in c:\\users\\admin\\anaconda3\\lib\\site-packages (from mlflow) (2.0.0)\n",
      "Collecting querystring-parser<2\n",
      "  Using cached querystring_parser-1.2.4-py2.py3-none-any.whl (7.9 kB)\n",
      "Requirement already satisfied: sqlalchemy<3,>=1.4.0 in c:\\users\\admin\\anaconda3\\lib\\site-packages (from mlflow) (1.4.32)\n",
      "Collecting docker<7,>=4.0.0\n",
      "  Using cached docker-6.1.3-py3-none-any.whl (148 kB)\n",
      "Requirement already satisfied: requests<3,>=2.17.3 in c:\\users\\admin\\anaconda3\\lib\\site-packages (from mlflow) (2.27.1)\n",
      "Collecting databricks-cli<1,>=0.8.7\n",
      "  Using cached databricks_cli-0.18.0-py2.py3-none-any.whl (150 kB)\n",
      "Requirement already satisfied: pandas<3 in c:\\users\\admin\\anaconda3\\lib\\site-packages (from mlflow) (1.4.2)\n",
      "Collecting waitress<3\n",
      "  Using cached waitress-2.1.2-py3-none-any.whl (57 kB)\n",
      "Collecting pyarrow<14,>=4.0.0\n",
      "  Using cached pyarrow-13.0.0-cp39-cp39-win_amd64.whl (24.4 MB)\n",
      "Requirement already satisfied: pytz<2024 in c:\\users\\admin\\anaconda3\\lib\\site-packages (from mlflow) (2021.3)\n",
      "Requirement already satisfied: scikit-learn<2 in c:\\users\\admin\\anaconda3\\lib\\site-packages (from mlflow) (1.0.2)\n",
      "Requirement already satisfied: importlib-metadata!=4.7.0,<7,>=3.7.0 in c:\\users\\admin\\anaconda3\\lib\\site-packages (from mlflow) (4.11.3)\n",
      "Requirement already satisfied: Flask<3 in c:\\users\\admin\\anaconda3\\lib\\site-packages (from mlflow) (1.1.2)\n",
      "Requirement already satisfied: pyyaml<7,>=5.1 in c:\\users\\admin\\anaconda3\\lib\\site-packages (from mlflow) (6.0)\n",
      "Collecting alembic!=1.10.0,<2\n",
      "  Using cached alembic-1.12.0-py3-none-any.whl (226 kB)\n",
      "Requirement already satisfied: scipy<2 in c:\\users\\admin\\anaconda3\\lib\\site-packages (from mlflow) (1.7.3)\n",
      "Collecting Jinja2<4,>=3.0\n",
      "  Using cached Jinja2-3.1.2-py3-none-any.whl (133 kB)\n",
      "Collecting gitpython<4,>=2.1.0\n",
      "  Downloading GitPython-3.1.38-py3-none-any.whl (190 kB)\n",
      "Requirement already satisfied: typing-extensions>=4 in c:\\users\\admin\\anaconda3\\lib\\site-packages (from alembic!=1.10.0,<2->mlflow) (4.1.1)\n",
      "Collecting Mako\n",
      "  Using cached Mako-1.2.4-py3-none-any.whl (78 kB)\n",
      "Requirement already satisfied: colorama in c:\\users\\admin\\anaconda3\\lib\\site-packages (from click<9,>=7.0->mlflow) (0.4.4)\n",
      "Requirement already satisfied: urllib3<3,>=1.26.7 in c:\\users\\admin\\anaconda3\\lib\\site-packages (from databricks-cli<1,>=0.8.7->mlflow) (1.26.9)\n",
      "Requirement already satisfied: oauthlib>=3.1.0 in c:\\users\\admin\\anaconda3\\lib\\site-packages (from databricks-cli<1,>=0.8.7->mlflow) (3.2.2)\n",
      "Requirement already satisfied: six>=1.10.0 in c:\\users\\admin\\anaconda3\\lib\\site-packages (from databricks-cli<1,>=0.8.7->mlflow) (1.16.0)\n",
      "Requirement already satisfied: pyjwt>=1.7.0 in c:\\users\\admin\\anaconda3\\lib\\site-packages (from databricks-cli<1,>=0.8.7->mlflow) (2.1.0)\n",
      "Requirement already satisfied: tabulate>=0.7.7 in c:\\users\\admin\\anaconda3\\lib\\site-packages (from databricks-cli<1,>=0.8.7->mlflow) (0.8.9)\n",
      "Requirement already satisfied: websocket-client>=0.32.0 in c:\\users\\admin\\anaconda3\\lib\\site-packages (from docker<7,>=4.0.0->mlflow) (0.58.0)\n",
      "Collecting pywin32>=304\n",
      "  Using cached pywin32-306-cp39-cp39-win_amd64.whl (9.3 MB)\n",
      "Requirement already satisfied: itsdangerous>=0.24 in c:\\users\\admin\\anaconda3\\lib\\site-packages (from Flask<3->mlflow) (2.0.1)\n",
      "Requirement already satisfied: Werkzeug>=0.15 in c:\\users\\admin\\anaconda3\\lib\\site-packages (from Flask<3->mlflow) (2.0.3)\n",
      "Collecting gitdb<5,>=4.0.1\n",
      "  Using cached gitdb-4.0.10-py3-none-any.whl (62 kB)\n",
      "Requirement already satisfied: smmap<6,>=3.0.1 in c:\\users\\admin\\anaconda3\\lib\\site-packages (from gitdb<5,>=4.0.1->gitpython<4,>=2.1.0->mlflow) (5.0.1)\n",
      "Requirement already satisfied: zipp>=0.5 in c:\\users\\admin\\anaconda3\\lib\\site-packages (from importlib-metadata!=4.7.0,<7,>=3.7.0->mlflow) (3.7.0)\n",
      "Requirement already satisfied: MarkupSafe>=2.0 in c:\\users\\admin\\anaconda3\\lib\\site-packages (from Jinja2<4,>=3.0->mlflow) (2.0.1)\n",
      "Requirement already satisfied: pillow>=6.2.0 in c:\\users\\admin\\anaconda3\\lib\\site-packages (from matplotlib<4->mlflow) (9.0.1)\n",
      "Requirement already satisfied: kiwisolver>=1.0.1 in c:\\users\\admin\\anaconda3\\lib\\site-packages (from matplotlib<4->mlflow) (1.3.2)\n",
      "Requirement already satisfied: pyparsing>=2.2.1 in c:\\users\\admin\\anaconda3\\lib\\site-packages (from matplotlib<4->mlflow) (3.0.4)\n",
      "Requirement already satisfied: cycler>=0.10 in c:\\users\\admin\\anaconda3\\lib\\site-packages (from matplotlib<4->mlflow) (0.11.0)\n",
      "Requirement already satisfied: fonttools>=4.22.0 in c:\\users\\admin\\anaconda3\\lib\\site-packages (from matplotlib<4->mlflow) (4.25.0)\n",
      "Requirement already satisfied: python-dateutil>=2.7 in c:\\users\\admin\\anaconda3\\lib\\site-packages (from matplotlib<4->mlflow) (2.8.2)\n",
      "Requirement already satisfied: charset-normalizer~=2.0.0 in c:\\users\\admin\\anaconda3\\lib\\site-packages (from requests<3,>=2.17.3->mlflow) (2.0.4)\n",
      "Requirement already satisfied: certifi>=2017.4.17 in c:\\users\\admin\\anaconda3\\lib\\site-packages (from requests<3,>=2.17.3->mlflow) (2021.10.8)\n",
      "Requirement already satisfied: idna<4,>=2.5 in c:\\users\\admin\\anaconda3\\lib\\site-packages (from requests<3,>=2.17.3->mlflow) (3.3)\n",
      "Requirement already satisfied: threadpoolctl>=2.0.0 in c:\\users\\admin\\anaconda3\\lib\\site-packages (from scikit-learn<2->mlflow) (2.2.0)\n",
      "Requirement already satisfied: joblib>=0.11 in c:\\users\\admin\\anaconda3\\lib\\site-packages (from scikit-learn<2->mlflow) (1.3.1)\n",
      "Requirement already satisfied: greenlet!=0.4.17 in c:\\users\\admin\\anaconda3\\lib\\site-packages (from sqlalchemy<3,>=1.4.0->mlflow) (1.1.1)\n",
      "Installing collected packages: pywin32, Mako, Jinja2, gitdb, waitress, sqlparse, querystring-parser, pyarrow, gitpython, docker, databricks-cli, alembic, mlflow\n",
      "  Attempting uninstall: pywin32\n",
      "    Found existing installation: pywin32 302\n",
      "    Uninstalling pywin32-302:\n",
      "      Successfully uninstalled pywin32-302\n",
      "  Rolling back uninstall of pywin32\n",
      "  Moving to c:\\users\\admin\\anaconda3\\lib\\site-packages\\__pycache__\\pythoncom.cpython-39.pyc\n",
      "   from C:\\Users\\admin\\AppData\\Local\\Temp\\pip-uninstall-9oepteen\\pythoncom.cpython-39.pyc\n",
      "  Moving to c:\\users\\admin\\anaconda3\\lib\\site-packages\\adodbapi\n",
      "   from C:\\Users\\admin\\anaconda3\\Lib\\site-packages\\~dodbapi\n",
      "  Moving to c:\\users\\admin\\anaconda3\\lib\\site-packages\\isapi\n",
      "   from C:\\Users\\admin\\anaconda3\\Lib\\site-packages\\~sapi\n",
      "  Moving to c:\\users\\admin\\anaconda3\\lib\\site-packages\\pythoncom.py\n",
      "   from C:\\Users\\admin\\AppData\\Local\\Temp\\pip-uninstall-9svxquuq\\pythoncom.py\n",
      "  Moving to c:\\users\\admin\\anaconda3\\lib\\site-packages\\pythonwin\n",
      "   from C:\\Users\\admin\\anaconda3\\Lib\\site-packages\\~ythonwin\n",
      "  Moving to c:\\users\\admin\\anaconda3\\lib\\site-packages\\pywin32-302-py3.9.egg-info\n",
      "   from C:\\Users\\admin\\anaconda3\\Lib\\site-packages\\~ywin32-302-py3.9.egg-info\n",
      "  Moving to c:\\users\\admin\\anaconda3\\lib\\site-packages\\win32\\lib\\\n",
      "   from C:\\Users\\admin\\anaconda3\\Lib\\site-packages\\win32\\~ib\n",
      "  Moving to c:\\users\\admin\\anaconda3\\lib\\site-packages\\win32com\n",
      "   from C:\\Users\\admin\\anaconda3\\Lib\\site-packages\\~in32com\n",
      "  Moving to c:\\users\\admin\\anaconda3\\lib\\site-packages\\win32comext\n",
      "   from C:\\Users\\admin\\anaconda3\\Lib\\site-packages\\~in32comext\n",
      "Note: you may need to restart the kernel to use updated packages.\n"
     ]
    },
    {
     "name": "stderr",
     "output_type": "stream",
     "text": [
      "ERROR: Could not install packages due to an OSError: [WinError 5] Access is denied: 'c:\\\\Users\\\\admin\\\\anaconda3\\\\Lib\\\\site-packages\\\\win32\\\\_win32sysloader.pyd'\n",
      "Consider using the `--user` option or check the permissions.\n",
      "\n"
     ]
    }
   ],
   "source": [
    "pip install mlflow\n"
   ]
  },
  {
   "cell_type": "code",
   "execution_count": null,
   "id": "4b087e84",
   "metadata": {},
   "outputs": [],
   "source": []
  },
  {
   "cell_type": "code",
   "execution_count": 6,
   "id": "c47e2eb0-586a-4c2d-81a9-15b4f459b707",
   "metadata": {},
   "outputs": [
    {
     "data": {
      "text/plain": [
       "4"
      ]
     },
     "execution_count": 6,
     "metadata": {},
     "output_type": "execute_result"
    }
   ],
   "source": [
    "data.date_time[0].weekday()"
   ]
  },
  {
   "cell_type": "code",
   "execution_count": 5,
   "id": "8cdcada6-a46f-42b3-9d45-3ba824ab8761",
   "metadata": {},
   "outputs": [],
   "source": [
    "data[\"hour\"]=list(map(lambda x:x.hour,list(data.date_time)))\n",
    "data[\"weekday\"]=list(map(lambda x:x.weekday(),list(data.date_time)))"
   ]
  },
  {
   "cell_type": "code",
   "execution_count": null,
   "id": "e6864542-2a6b-45e7-b1ca-68a11534894f",
   "metadata": {},
   "outputs": [],
   "source": [
    "data.head()"
   ]
  },
  {
   "cell_type": "code",
   "execution_count": 6,
   "id": "c7bcdaac-9626-4be8-90f3-104a7288d147",
   "metadata": {},
   "outputs": [],
   "source": [
    "data.drop([\"date_time\",\"rain_1h\",\"snow_1h\"],axis=1,inplace=True)"
   ]
  },
  {
   "cell_type": "code",
   "execution_count": null,
   "id": "a0da2a8f-23ee-47a9-a1b3-8329c15a805a",
   "metadata": {},
   "outputs": [],
   "source": [
    "data"
   ]
  },
  {
   "cell_type": "code",
   "execution_count": null,
   "id": "e4c167e6-76ae-4ba5-92c0-c2cce51dcee1",
   "metadata": {},
   "outputs": [],
   "source": [
    "data.columns"
   ]
  },
  {
   "cell_type": "code",
   "execution_count": null,
   "id": "6fa49f04-0fb6-490c-b801-4af95736ce97",
   "metadata": {},
   "outputs": [],
   "source": [
    "data.weather_main.value_counts()\n"
   ]
  },
  {
   "cell_type": "code",
   "execution_count": 7,
   "id": "a45e0db5-24d5-4524-8e60-0f6c666ec55c",
   "metadata": {},
   "outputs": [],
   "source": [
    "data=data[data.temp!=0.0]"
   ]
  },
  {
   "cell_type": "code",
   "execution_count": null,
   "id": "d443dacb-e96b-456e-843b-80dfec750f38",
   "metadata": {},
   "outputs": [],
   "source": [
    "data.temp.min() - 273.15\n"
   ]
  },
  {
   "cell_type": "code",
   "execution_count": 8,
   "id": "77afa9d7-d7e1-44d9-aba1-1470b7f7dad5",
   "metadata": {},
   "outputs": [],
   "source": [
    "data.drop([\"weather_description\"],axis=1,inplace=True)"
   ]
  },
  {
   "cell_type": "markdown",
   "id": "6dc46ea9-f072-43df-966d-3317150bde95",
   "metadata": {},
   "source": [
    "### hour modify and checking that making category of it will increase score.\n",
    "```\n",
    "Early_Morning = [4,5,6,7]\n",
    "Morning = [8,9,10,11]\n",
    "Afternoon = [12,13,14,15]\n",
    "Evening = [16,17,18,19]\n",
    "Night = [20,21,22,23]\n",
    "Late_Night = [24,1,2,3]\n",
    "\n",
    "def modify_hour(x):\n",
    "    if x in Early_Morning:\n",
    "        return \"Early_morning\"\n",
    "    elif x in Morning:\n",
    "        return \"Morning\"\n",
    "    elif x in Afternoon:\n",
    "        return \"Afternoon\"\n",
    "    elif x in Evening:\n",
    "        return \"Evening\"\n",
    "    elif x in Night:\n",
    "        return \"Night\"\n",
    "    else :\n",
    "        return \"Late_Night\"\n",
    "```"
   ]
  },
  {
   "cell_type": "code",
   "execution_count": null,
   "id": "19bbc657-93d2-4d98-a0c0-298bf1cd6c8b",
   "metadata": {},
   "outputs": [],
   "source": [
    "#data.hour=data.hour.map(modify_hour)"
   ]
  },
  {
   "cell_type": "code",
   "execution_count": null,
   "id": "f954aab0-d2e8-4a15-84a8-62d20c31a7d1",
   "metadata": {},
   "outputs": [],
   "source": [
    "#data.hour.value_counts()"
   ]
  },
  {
   "cell_type": "code",
   "execution_count": null,
   "id": "2b116242-ea66-4cbc-b023-a908c3ebbbb7",
   "metadata": {},
   "outputs": [],
   "source": []
  },
  {
   "cell_type": "code",
   "execution_count": 9,
   "id": "fa55f86c-7489-444e-89c6-bbeae0054860",
   "metadata": {},
   "outputs": [],
   "source": [
    "def modify_holiday(x):\n",
    "    if x ==\"None\":\n",
    "        return \"no\"\n",
    "    else:\n",
    "        return \"yes\""
   ]
  },
  {
   "cell_type": "code",
   "execution_count": 10,
   "id": "e8171b2d-6d4a-4fa2-a9be-80c7adcb58db",
   "metadata": {},
   "outputs": [],
   "source": [
    "data.holiday=data.holiday.map(modify_holiday)"
   ]
  },
  {
   "cell_type": "code",
   "execution_count": 20,
   "id": "9ca7a9cc-f751-45e0-b061-0bd0f07c63d5",
   "metadata": {},
   "outputs": [
    {
     "data": {
      "text/html": [
       "<div>\n",
       "<style scoped>\n",
       "    .dataframe tbody tr th:only-of-type {\n",
       "        vertical-align: middle;\n",
       "    }\n",
       "\n",
       "    .dataframe tbody tr th {\n",
       "        vertical-align: top;\n",
       "    }\n",
       "\n",
       "    .dataframe thead th {\n",
       "        text-align: right;\n",
       "    }\n",
       "</style>\n",
       "<table border=\"1\" class=\"dataframe\">\n",
       "  <thead>\n",
       "    <tr style=\"text-align: right;\">\n",
       "      <th></th>\n",
       "      <th>holiday</th>\n",
       "      <th>temp</th>\n",
       "      <th>clouds_all</th>\n",
       "      <th>weather_main</th>\n",
       "      <th>traffic_volume</th>\n",
       "      <th>hour</th>\n",
       "      <th>weekday</th>\n",
       "    </tr>\n",
       "  </thead>\n",
       "  <tbody>\n",
       "    <tr>\n",
       "      <th>0</th>\n",
       "      <td>no</td>\n",
       "      <td>288.28</td>\n",
       "      <td>40</td>\n",
       "      <td>Clouds</td>\n",
       "      <td>5545</td>\n",
       "      <td>9</td>\n",
       "      <td>4</td>\n",
       "    </tr>\n",
       "    <tr>\n",
       "      <th>1</th>\n",
       "      <td>no</td>\n",
       "      <td>289.36</td>\n",
       "      <td>75</td>\n",
       "      <td>Clouds</td>\n",
       "      <td>4516</td>\n",
       "      <td>10</td>\n",
       "      <td>4</td>\n",
       "    </tr>\n",
       "    <tr>\n",
       "      <th>2</th>\n",
       "      <td>no</td>\n",
       "      <td>289.58</td>\n",
       "      <td>90</td>\n",
       "      <td>Clouds</td>\n",
       "      <td>4767</td>\n",
       "      <td>11</td>\n",
       "      <td>4</td>\n",
       "    </tr>\n",
       "    <tr>\n",
       "      <th>3</th>\n",
       "      <td>no</td>\n",
       "      <td>290.13</td>\n",
       "      <td>90</td>\n",
       "      <td>Clouds</td>\n",
       "      <td>5026</td>\n",
       "      <td>12</td>\n",
       "      <td>4</td>\n",
       "    </tr>\n",
       "    <tr>\n",
       "      <th>4</th>\n",
       "      <td>no</td>\n",
       "      <td>291.14</td>\n",
       "      <td>75</td>\n",
       "      <td>Clouds</td>\n",
       "      <td>4918</td>\n",
       "      <td>13</td>\n",
       "      <td>4</td>\n",
       "    </tr>\n",
       "    <tr>\n",
       "      <th>...</th>\n",
       "      <td>...</td>\n",
       "      <td>...</td>\n",
       "      <td>...</td>\n",
       "      <td>...</td>\n",
       "      <td>...</td>\n",
       "      <td>...</td>\n",
       "      <td>...</td>\n",
       "    </tr>\n",
       "    <tr>\n",
       "      <th>48199</th>\n",
       "      <td>no</td>\n",
       "      <td>283.45</td>\n",
       "      <td>75</td>\n",
       "      <td>Clouds</td>\n",
       "      <td>3543</td>\n",
       "      <td>19</td>\n",
       "      <td>6</td>\n",
       "    </tr>\n",
       "    <tr>\n",
       "      <th>48200</th>\n",
       "      <td>no</td>\n",
       "      <td>282.76</td>\n",
       "      <td>90</td>\n",
       "      <td>Clouds</td>\n",
       "      <td>2781</td>\n",
       "      <td>20</td>\n",
       "      <td>6</td>\n",
       "    </tr>\n",
       "    <tr>\n",
       "      <th>48201</th>\n",
       "      <td>no</td>\n",
       "      <td>282.73</td>\n",
       "      <td>90</td>\n",
       "      <td>Thunderstorm</td>\n",
       "      <td>2159</td>\n",
       "      <td>21</td>\n",
       "      <td>6</td>\n",
       "    </tr>\n",
       "    <tr>\n",
       "      <th>48202</th>\n",
       "      <td>no</td>\n",
       "      <td>282.09</td>\n",
       "      <td>90</td>\n",
       "      <td>Clouds</td>\n",
       "      <td>1450</td>\n",
       "      <td>22</td>\n",
       "      <td>6</td>\n",
       "    </tr>\n",
       "    <tr>\n",
       "      <th>48203</th>\n",
       "      <td>no</td>\n",
       "      <td>282.12</td>\n",
       "      <td>90</td>\n",
       "      <td>Clouds</td>\n",
       "      <td>954</td>\n",
       "      <td>23</td>\n",
       "      <td>6</td>\n",
       "    </tr>\n",
       "  </tbody>\n",
       "</table>\n",
       "<p>48194 rows × 7 columns</p>\n",
       "</div>"
      ],
      "text/plain": [
       "      holiday    temp  clouds_all  weather_main  traffic_volume  hour  weekday\n",
       "0          no  288.28          40        Clouds            5545     9        4\n",
       "1          no  289.36          75        Clouds            4516    10        4\n",
       "2          no  289.58          90        Clouds            4767    11        4\n",
       "3          no  290.13          90        Clouds            5026    12        4\n",
       "4          no  291.14          75        Clouds            4918    13        4\n",
       "...       ...     ...         ...           ...             ...   ...      ...\n",
       "48199      no  283.45          75        Clouds            3543    19        6\n",
       "48200      no  282.76          90        Clouds            2781    20        6\n",
       "48201      no  282.73          90  Thunderstorm            2159    21        6\n",
       "48202      no  282.09          90        Clouds            1450    22        6\n",
       "48203      no  282.12          90        Clouds             954    23        6\n",
       "\n",
       "[48194 rows x 7 columns]"
      ]
     },
     "execution_count": 20,
     "metadata": {},
     "output_type": "execute_result"
    }
   ],
   "source": [
    "data"
   ]
  },
  {
   "cell_type": "code",
   "execution_count": 11,
   "id": "1d462405-0214-437f-ae28-9c08c1d8c189",
   "metadata": {},
   "outputs": [],
   "source": [
    "\n",
    "cat_cols=data.columns[data.dtypes==\"O\"].to_list()\n"
   ]
  },
  {
   "cell_type": "code",
   "execution_count": 12,
   "id": "3ed6fca7-7666-40ef-808d-7ebcdf1a9e3b",
   "metadata": {},
   "outputs": [],
   "source": [
    "num_cols=[\"hour\",\"temp\",\"clouds_all\",\"Weekday\"]"
   ]
  },
  {
   "cell_type": "code",
   "execution_count": 13,
   "id": "665c88a6-172f-4a29-8281-7f1d898e57a5",
   "metadata": {},
   "outputs": [
    {
     "data": {
      "text/plain": [
       "array([4, 5, 1, 3, 6, 0, 2], dtype=int64)"
      ]
     },
     "execution_count": 13,
     "metadata": {},
     "output_type": "execute_result"
    }
   ],
   "source": [
    "\n",
    "data.weekday.unique()"
   ]
  },
  {
   "cell_type": "code",
   "execution_count": 14,
   "id": "3e52a7c1-77d2-40be-8030-95a816c8925e",
   "metadata": {},
   "outputs": [],
   "source": [
    "\n",
    "week=[0,1,2,3,4,5,6]\n",
    "weekday=[1,2,3,4,5,6,7]\n",
    "\n",
    "def modify_weekday(x):\n",
    "    for i in range(len(weekday)):\n",
    "        if x==i:\n",
    "            return weekday[i]"
   ]
  },
  {
   "cell_type": "code",
   "execution_count": 15,
   "id": "19cd2a99-ca1d-4e03-8206-5b15e1569ae8",
   "metadata": {},
   "outputs": [],
   "source": [
    "data[\"Weekday\"]=data.weekday.map(modify_weekday)"
   ]
  },
  {
   "cell_type": "code",
   "execution_count": 16,
   "id": "623d970c-3896-493f-8353-2ed4bf67a72d",
   "metadata": {},
   "outputs": [],
   "source": [
    "data.drop(\"weekday\",axis=1,inplace=True)"
   ]
  },
  {
   "cell_type": "code",
   "execution_count": 17,
   "id": "b04e9c95-4c34-474e-a1c7-f3ca0a19ac05",
   "metadata": {},
   "outputs": [
    {
     "data": {
      "text/html": [
       "<div>\n",
       "<style scoped>\n",
       "    .dataframe tbody tr th:only-of-type {\n",
       "        vertical-align: middle;\n",
       "    }\n",
       "\n",
       "    .dataframe tbody tr th {\n",
       "        vertical-align: top;\n",
       "    }\n",
       "\n",
       "    .dataframe thead th {\n",
       "        text-align: right;\n",
       "    }\n",
       "</style>\n",
       "<table border=\"1\" class=\"dataframe\">\n",
       "  <thead>\n",
       "    <tr style=\"text-align: right;\">\n",
       "      <th></th>\n",
       "      <th>holiday</th>\n",
       "      <th>temp</th>\n",
       "      <th>clouds_all</th>\n",
       "      <th>weather_main</th>\n",
       "      <th>traffic_volume</th>\n",
       "      <th>hour</th>\n",
       "      <th>Weekday</th>\n",
       "    </tr>\n",
       "  </thead>\n",
       "  <tbody>\n",
       "    <tr>\n",
       "      <th>0</th>\n",
       "      <td>no</td>\n",
       "      <td>288.28</td>\n",
       "      <td>40</td>\n",
       "      <td>Clouds</td>\n",
       "      <td>5545</td>\n",
       "      <td>9</td>\n",
       "      <td>5</td>\n",
       "    </tr>\n",
       "    <tr>\n",
       "      <th>1</th>\n",
       "      <td>no</td>\n",
       "      <td>289.36</td>\n",
       "      <td>75</td>\n",
       "      <td>Clouds</td>\n",
       "      <td>4516</td>\n",
       "      <td>10</td>\n",
       "      <td>5</td>\n",
       "    </tr>\n",
       "    <tr>\n",
       "      <th>2</th>\n",
       "      <td>no</td>\n",
       "      <td>289.58</td>\n",
       "      <td>90</td>\n",
       "      <td>Clouds</td>\n",
       "      <td>4767</td>\n",
       "      <td>11</td>\n",
       "      <td>5</td>\n",
       "    </tr>\n",
       "    <tr>\n",
       "      <th>3</th>\n",
       "      <td>no</td>\n",
       "      <td>290.13</td>\n",
       "      <td>90</td>\n",
       "      <td>Clouds</td>\n",
       "      <td>5026</td>\n",
       "      <td>12</td>\n",
       "      <td>5</td>\n",
       "    </tr>\n",
       "    <tr>\n",
       "      <th>4</th>\n",
       "      <td>no</td>\n",
       "      <td>291.14</td>\n",
       "      <td>75</td>\n",
       "      <td>Clouds</td>\n",
       "      <td>4918</td>\n",
       "      <td>13</td>\n",
       "      <td>5</td>\n",
       "    </tr>\n",
       "    <tr>\n",
       "      <th>...</th>\n",
       "      <td>...</td>\n",
       "      <td>...</td>\n",
       "      <td>...</td>\n",
       "      <td>...</td>\n",
       "      <td>...</td>\n",
       "      <td>...</td>\n",
       "      <td>...</td>\n",
       "    </tr>\n",
       "    <tr>\n",
       "      <th>48199</th>\n",
       "      <td>no</td>\n",
       "      <td>283.45</td>\n",
       "      <td>75</td>\n",
       "      <td>Clouds</td>\n",
       "      <td>3543</td>\n",
       "      <td>19</td>\n",
       "      <td>7</td>\n",
       "    </tr>\n",
       "    <tr>\n",
       "      <th>48200</th>\n",
       "      <td>no</td>\n",
       "      <td>282.76</td>\n",
       "      <td>90</td>\n",
       "      <td>Clouds</td>\n",
       "      <td>2781</td>\n",
       "      <td>20</td>\n",
       "      <td>7</td>\n",
       "    </tr>\n",
       "    <tr>\n",
       "      <th>48201</th>\n",
       "      <td>no</td>\n",
       "      <td>282.73</td>\n",
       "      <td>90</td>\n",
       "      <td>Thunderstorm</td>\n",
       "      <td>2159</td>\n",
       "      <td>21</td>\n",
       "      <td>7</td>\n",
       "    </tr>\n",
       "    <tr>\n",
       "      <th>48202</th>\n",
       "      <td>no</td>\n",
       "      <td>282.09</td>\n",
       "      <td>90</td>\n",
       "      <td>Clouds</td>\n",
       "      <td>1450</td>\n",
       "      <td>22</td>\n",
       "      <td>7</td>\n",
       "    </tr>\n",
       "    <tr>\n",
       "      <th>48203</th>\n",
       "      <td>no</td>\n",
       "      <td>282.12</td>\n",
       "      <td>90</td>\n",
       "      <td>Clouds</td>\n",
       "      <td>954</td>\n",
       "      <td>23</td>\n",
       "      <td>7</td>\n",
       "    </tr>\n",
       "  </tbody>\n",
       "</table>\n",
       "<p>48194 rows × 7 columns</p>\n",
       "</div>"
      ],
      "text/plain": [
       "      holiday    temp  clouds_all  weather_main  traffic_volume  hour  Weekday\n",
       "0          no  288.28          40        Clouds            5545     9        5\n",
       "1          no  289.36          75        Clouds            4516    10        5\n",
       "2          no  289.58          90        Clouds            4767    11        5\n",
       "3          no  290.13          90        Clouds            5026    12        5\n",
       "4          no  291.14          75        Clouds            4918    13        5\n",
       "...       ...     ...         ...           ...             ...   ...      ...\n",
       "48199      no  283.45          75        Clouds            3543    19        7\n",
       "48200      no  282.76          90        Clouds            2781    20        7\n",
       "48201      no  282.73          90  Thunderstorm            2159    21        7\n",
       "48202      no  282.09          90        Clouds            1450    22        7\n",
       "48203      no  282.12          90        Clouds             954    23        7\n",
       "\n",
       "[48194 rows x 7 columns]"
      ]
     },
     "execution_count": 17,
     "metadata": {},
     "output_type": "execute_result"
    }
   ],
   "source": [
    "data"
   ]
  },
  {
   "cell_type": "code",
   "execution_count": 18,
   "id": "f83e31e4-df94-48d6-aea5-60000b25142c",
   "metadata": {},
   "outputs": [
    {
     "data": {
      "text/plain": [
       "0        5\n",
       "1        5\n",
       "2        5\n",
       "3        5\n",
       "4        5\n",
       "        ..\n",
       "48199    7\n",
       "48200    7\n",
       "48201    7\n",
       "48202    7\n",
       "48203    7\n",
       "Name: Weekday, Length: 48194, dtype: object"
      ]
     },
     "execution_count": 18,
     "metadata": {},
     "output_type": "execute_result"
    }
   ],
   "source": [
    "data[\"Weekday\"].astype(object)"
   ]
  },
  {
   "cell_type": "code",
   "execution_count": 19,
   "id": "a676554b-2600-4da2-a69f-8df01f0a74da",
   "metadata": {},
   "outputs": [
    {
     "data": {
      "text/plain": [
       "5    6971\n",
       "3    6906\n",
       "6    6875\n",
       "1    6873\n",
       "2    6864\n",
       "7    6855\n",
       "4    6850\n",
       "Name: Weekday, dtype: int64"
      ]
     },
     "execution_count": 19,
     "metadata": {},
     "output_type": "execute_result"
    }
   ],
   "source": [
    "data.Weekday.value_counts()"
   ]
  },
  {
   "cell_type": "code",
   "execution_count": 20,
   "id": "860254b5-c75a-4021-ab5d-885b843cc039",
   "metadata": {},
   "outputs": [],
   "source": [
    "cat_cols.append(\"Weekday\")"
   ]
  },
  {
   "cell_type": "code",
   "execution_count": 21,
   "id": "cc463e99-ddc4-4ef8-9528-17a804a7a112",
   "metadata": {},
   "outputs": [
    {
     "data": {
      "text/plain": [
       "['holiday', 'weather_main', 'Weekday']"
      ]
     },
     "execution_count": 21,
     "metadata": {},
     "output_type": "execute_result"
    }
   ],
   "source": [
    "cat_cols"
   ]
  },
  {
   "cell_type": "code",
   "execution_count": 22,
   "id": "b5d17878-6bc9-40a9-a44e-38b0fd98aa30",
   "metadata": {},
   "outputs": [],
   "source": [
    "num_cols.remove(\"Weekday\")"
   ]
  },
  {
   "cell_type": "code",
   "execution_count": 23,
   "id": "bf22c9eb-d4b2-4537-b9d6-c7a581c6a028",
   "metadata": {},
   "outputs": [
    {
     "data": {
      "text/plain": [
       "['hour', 'temp', 'clouds_all']"
      ]
     },
     "execution_count": 23,
     "metadata": {},
     "output_type": "execute_result"
    }
   ],
   "source": [
    "num_cols\n"
   ]
  },
  {
   "cell_type": "code",
   "execution_count": 24,
   "id": "ab7fe159-4c4e-49ab-b54d-db8c7fa5010e",
   "metadata": {},
   "outputs": [],
   "source": [
    "from sklearn.model_selection import train_test_split\n",
    "from sklearn.preprocessing import OneHotEncoder,LabelEncoder,StandardScaler\n",
    "from sklearn.linear_model import LinearRegression\n",
    "from sklearn.ensemble import RandomForestRegressor,GradientBoostingRegressor,AdaBoostRegressor\n",
    "from sklearn.svm import SVR\n",
    "from sklearn.tree import DecisionTreeRegressor\n",
    "from sklearn.metrics import r2_score,mean_absolute_error,mean_squared_error\n",
    "from sklearn.neighbors import KNeighborsRegressor\n"
   ]
  },
  {
   "cell_type": "code",
   "execution_count": 25,
   "id": "8e1d90e5-ffd4-43e5-a34a-d15ad4fba5b2",
   "metadata": {},
   "outputs": [],
   "source": [
    "X=data.drop(\"traffic_volume\",axis=1)\n",
    "y=data[\"traffic_volume\"]\n",
    "X_train,X_test,y_train,y_test=train_test_split(X,y,test_size=0.30,random_state=42)"
   ]
  },
  {
   "cell_type": "code",
   "execution_count": 26,
   "id": "0a1e807b-4249-4f6b-a97a-7622c6ba03a5",
   "metadata": {},
   "outputs": [
    {
     "name": "stdout",
     "output_type": "stream",
     "text": [
      "(33735, 6)\n",
      "(14459, 6)\n",
      "(33735,)\n",
      "(14459,)\n"
     ]
    }
   ],
   "source": [
    "print(X_train.shape)\n",
    "print(X_test.shape)\n",
    "print(y_train.shape)\n",
    "print(y_test.shape)"
   ]
  },
  {
   "cell_type": "code",
   "execution_count": 27,
   "id": "85ecfe74-ab76-47b8-8987-88678406ee8c",
   "metadata": {},
   "outputs": [
    {
     "data": {
      "text/html": [
       "<div>\n",
       "<style scoped>\n",
       "    .dataframe tbody tr th:only-of-type {\n",
       "        vertical-align: middle;\n",
       "    }\n",
       "\n",
       "    .dataframe tbody tr th {\n",
       "        vertical-align: top;\n",
       "    }\n",
       "\n",
       "    .dataframe thead th {\n",
       "        text-align: right;\n",
       "    }\n",
       "</style>\n",
       "<table border=\"1\" class=\"dataframe\">\n",
       "  <thead>\n",
       "    <tr style=\"text-align: right;\">\n",
       "      <th></th>\n",
       "      <th>holiday</th>\n",
       "      <th>temp</th>\n",
       "      <th>clouds_all</th>\n",
       "      <th>weather_main</th>\n",
       "      <th>hour</th>\n",
       "      <th>Weekday</th>\n",
       "    </tr>\n",
       "  </thead>\n",
       "  <tbody>\n",
       "    <tr>\n",
       "      <th>24221</th>\n",
       "      <td>no</td>\n",
       "      <td>290.89</td>\n",
       "      <td>0</td>\n",
       "      <td>Clear</td>\n",
       "      <td>3</td>\n",
       "      <td>4</td>\n",
       "    </tr>\n",
       "    <tr>\n",
       "      <th>46012</th>\n",
       "      <td>no</td>\n",
       "      <td>291.35</td>\n",
       "      <td>90</td>\n",
       "      <td>Mist</td>\n",
       "      <td>6</td>\n",
       "      <td>5</td>\n",
       "    </tr>\n",
       "    <tr>\n",
       "      <th>28413</th>\n",
       "      <td>no</td>\n",
       "      <td>275.34</td>\n",
       "      <td>90</td>\n",
       "      <td>Haze</td>\n",
       "      <td>15</td>\n",
       "      <td>4</td>\n",
       "    </tr>\n",
       "    <tr>\n",
       "      <th>17790</th>\n",
       "      <td>no</td>\n",
       "      <td>297.62</td>\n",
       "      <td>75</td>\n",
       "      <td>Clouds</td>\n",
       "      <td>15</td>\n",
       "      <td>5</td>\n",
       "    </tr>\n",
       "    <tr>\n",
       "      <th>23725</th>\n",
       "      <td>no</td>\n",
       "      <td>290.76</td>\n",
       "      <td>90</td>\n",
       "      <td>Rain</td>\n",
       "      <td>12</td>\n",
       "      <td>6</td>\n",
       "    </tr>\n",
       "    <tr>\n",
       "      <th>...</th>\n",
       "      <td>...</td>\n",
       "      <td>...</td>\n",
       "      <td>...</td>\n",
       "      <td>...</td>\n",
       "      <td>...</td>\n",
       "      <td>...</td>\n",
       "    </tr>\n",
       "    <tr>\n",
       "      <th>11284</th>\n",
       "      <td>no</td>\n",
       "      <td>248.79</td>\n",
       "      <td>40</td>\n",
       "      <td>Clouds</td>\n",
       "      <td>7</td>\n",
       "      <td>2</td>\n",
       "    </tr>\n",
       "    <tr>\n",
       "      <th>44742</th>\n",
       "      <td>no</td>\n",
       "      <td>293.08</td>\n",
       "      <td>1</td>\n",
       "      <td>Clear</td>\n",
       "      <td>23</td>\n",
       "      <td>3</td>\n",
       "    </tr>\n",
       "    <tr>\n",
       "      <th>38168</th>\n",
       "      <td>no</td>\n",
       "      <td>288.28</td>\n",
       "      <td>1</td>\n",
       "      <td>Clear</td>\n",
       "      <td>22</td>\n",
       "      <td>4</td>\n",
       "    </tr>\n",
       "    <tr>\n",
       "      <th>860</th>\n",
       "      <td>no</td>\n",
       "      <td>269.24</td>\n",
       "      <td>20</td>\n",
       "      <td>Clouds</td>\n",
       "      <td>7</td>\n",
       "      <td>7</td>\n",
       "    </tr>\n",
       "    <tr>\n",
       "      <th>15805</th>\n",
       "      <td>no</td>\n",
       "      <td>299.34</td>\n",
       "      <td>1</td>\n",
       "      <td>Clear</td>\n",
       "      <td>17</td>\n",
       "      <td>3</td>\n",
       "    </tr>\n",
       "  </tbody>\n",
       "</table>\n",
       "<p>33735 rows × 6 columns</p>\n",
       "</div>"
      ],
      "text/plain": [
       "      holiday    temp  clouds_all weather_main  hour  Weekday\n",
       "24221      no  290.89           0        Clear     3        4\n",
       "46012      no  291.35          90         Mist     6        5\n",
       "28413      no  275.34          90         Haze    15        4\n",
       "17790      no  297.62          75       Clouds    15        5\n",
       "23725      no  290.76          90         Rain    12        6\n",
       "...       ...     ...         ...          ...   ...      ...\n",
       "11284      no  248.79          40       Clouds     7        2\n",
       "44742      no  293.08           1        Clear    23        3\n",
       "38168      no  288.28           1        Clear    22        4\n",
       "860        no  269.24          20       Clouds     7        7\n",
       "15805      no  299.34           1        Clear    17        3\n",
       "\n",
       "[33735 rows x 6 columns]"
      ]
     },
     "execution_count": 27,
     "metadata": {},
     "output_type": "execute_result"
    }
   ],
   "source": [
    "X_train"
   ]
  },
  {
   "cell_type": "code",
   "execution_count": null,
   "id": "1245e8b6-3f90-453c-95f6-2e1a7cce366a",
   "metadata": {},
   "outputs": [],
   "source": []
  },
  {
   "cell_type": "code",
   "execution_count": 28,
   "id": "2a2578b8-bdfd-4a57-967a-09d4a57b2a72",
   "metadata": {},
   "outputs": [],
   "source": [
    "from sklearn.pipeline import Pipeline\n",
    "from sklearn.compose import ColumnTransformer\n",
    "from sklearn.impute import SimpleImputer"
   ]
  },
  {
   "cell_type": "code",
   "execution_count": 29,
   "id": "ac64bb6a-bae9-4bbb-a805-c0b3013510bf",
   "metadata": {},
   "outputs": [],
   "source": [
    "num_pipeline=Pipeline(\n",
    "        steps=[(\"imputer\",SimpleImputer()),\n",
    "       \n",
    "        (\"scalar\",StandardScaler())] )\n",
    "\n",
    "cat_pipeline = Pipeline(\n",
    "    steps=[(\"imputer\",SimpleImputer(strategy=\"most_frequent\")),(\"encoder\",OneHotEncoder(sparse=False,handle_unknown=\"ignore\"))]\n",
    ")\n",
    "\n",
    "pipeline=ColumnTransformer([(\"num_pipeline\",num_pipeline,num_cols),\n",
    "                            (\"cat_pipeline\",cat_pipeline,cat_cols)])\n"
   ]
  },
  {
   "cell_type": "code",
   "execution_count": 30,
   "id": "7858fbb9-2a0a-44fc-a204-ca568e055984",
   "metadata": {},
   "outputs": [],
   "source": [
    "X_train=pipeline.fit_transform(X_train)\n",
    "X_test=pipeline.transform(X_test)"
   ]
  },
  {
   "cell_type": "code",
   "execution_count": 35,
   "id": "361eaf7b-4d6f-4bc6-b3a7-ac03ae9f13d0",
   "metadata": {},
   "outputs": [],
   "source": [
    "#D=pd.DataFrame(X_train,columns=pipeline.get_feature_names_out());D"
   ]
  },
  {
   "cell_type": "code",
   "execution_count": 36,
   "id": "0699fc63-8ef4-4334-a960-9bd9a1ef2e84",
   "metadata": {},
   "outputs": [],
   "source": [
    "#D[\"cat_pipeline__holiday_yes\"].value_counts()"
   ]
  },
  {
   "cell_type": "markdown",
   "id": "98c1d863-2684-4fdb-b3a1-b8674c9d175a",
   "metadata": {},
   "source": [
    "model"
   ]
  },
  {
   "cell_type": "markdown",
   "id": "d28d0d19-dec4-4222-8ccf-cbcd9c8d5cc6",
   "metadata": {},
   "source": [
    "## Linear regression"
   ]
  },
  {
   "cell_type": "code",
   "execution_count": 31,
   "id": "e28ce041-3695-46bc-870c-753afcf4b72f",
   "metadata": {
    "tags": []
   },
   "outputs": [],
   "source": [
    "from sklearn.linear_model import Lasso,Ridge\n",
    "from sklearn.neighbors import KNeighborsRegressor\n",
    "from sklearn.svm import SVR\n"
   ]
  },
  {
   "cell_type": "code",
   "execution_count": 38,
   "id": "6fb1641f-37a2-4f08-baef-c39174c3bdbd",
   "metadata": {},
   "outputs": [],
   "source": [
    "models={\"Lasso\":Lasso(),\"Ridge\":Ridge(),\"RandomForest\":RandomForestRegressor(),\n",
    "        \"GradientBoosting\":GradientBoostingRegressor(),\"Adaboost\":AdaBoostRegressor(),\"KNN-regressor\":KNeighborsRegressor()}"
   ]
  },
  {
   "cell_type": "code",
   "execution_count": 39,
   "id": "f51e68bc-0622-43b4-abbf-36b94d34f511",
   "metadata": {},
   "outputs": [
    {
     "data": {
      "text/plain": [
       "'RandomForest'"
      ]
     },
     "execution_count": 39,
     "metadata": {},
     "output_type": "execute_result"
    }
   ],
   "source": [
    "list(models.keys())[2]"
   ]
  },
  {
   "cell_type": "code",
   "execution_count": 40,
   "id": "2126ad18-4863-4cd5-bfee-cf02e4819fa9",
   "metadata": {},
   "outputs": [
    {
     "data": {
      "text/plain": [
       "RandomForestRegressor()"
      ]
     },
     "execution_count": 40,
     "metadata": {},
     "output_type": "execute_result"
    }
   ],
   "source": [
    "models[\"RandomForest\"]"
   ]
  },
  {
   "cell_type": "markdown",
   "id": "bbe7d23d-efde-473c-92ca-230abfd1ac83",
   "metadata": {},
   "source": [
    "## ALL model output"
   ]
  },
  {
   "cell_type": "code",
   "execution_count": 41,
   "id": "76c6b630-52a4-48c2-b0de-6cc1dd999443",
   "metadata": {},
   "outputs": [
    {
     "name": "stdout",
     "output_type": "stream",
     "text": [
      "For Model : Lasso\n",
      "\n",
      "R2 square :0.16615001373771066\n",
      "mean square error :3313464.638025422\n",
      "Root mean Sq error :1820.292459476065\n",
      "adjusted R2 square :0.164821399280902\n",
      "**************************************************\n",
      "\n",
      "\n",
      "For Model : Ridge\n",
      "\n",
      "R2 square :0.1661106659864655\n",
      "mean square error :3313620.9939461327\n",
      "Root mean Sq error :1820.3354069912866\n",
      "adjusted R2 square :0.16478198883493722\n",
      "**************************************************\n",
      "\n",
      "\n",
      "For Model : RandomForest\n",
      "\n",
      "R2 square :0.8398617149295395\n",
      "mean square error :636340.5330897252\n",
      "Root mean Sq error :797.7095543427603\n",
      "adjusted R2 square :0.8396065586734522\n",
      "**************************************************\n",
      "\n",
      "\n",
      "For Model : GradientBoosting\n",
      "\n",
      "R2 square :0.8341962934425599\n",
      "mean square error :658853.1841251499\n",
      "Root mean Sq error :811.6977172107544\n",
      "adjusted R2 square :0.8339321101899917\n",
      "**************************************************\n",
      "\n",
      "\n",
      "For Model : Adaboost\n",
      "\n",
      "R2 square :0.7549689096227775\n",
      "mean square error :973678.5591627418\n",
      "Root mean Sq error :986.7515184496763\n",
      "adjusted R2 square :0.7545784894579922\n",
      "**************************************************\n",
      "\n",
      "\n"
     ]
    },
    {
     "ename": "MemoryError",
     "evalue": "Unable to allocate 1.00 GiB for an array with shape (3978, 33735) and data type float64",
     "output_type": "error",
     "traceback": [
      "\u001b[1;31m---------------------------------------------------------------------------\u001b[0m",
      "\u001b[1;31mMemoryError\u001b[0m                               Traceback (most recent call last)",
      "\u001b[1;32md:\\Metro\\Notebooks\\metro model training.ipynb Cell 63\u001b[0m in \u001b[0;36m<cell line: 30>\u001b[1;34m()\u001b[0m\n\u001b[0;32m     <a href='vscode-notebook-cell:/d%3A/Metro/Notebooks/metro%20model%20training.ipynb#Y116sZmlsZQ%3D%3D?line=25'>26</a>\u001b[0m     best_model\u001b[39m=\u001b[39m[key \u001b[39mfor\u001b[39;00m key ,value \u001b[39min\u001b[39;00m scores\u001b[39m.\u001b[39mitems() \u001b[39mif\u001b[39;00m value\u001b[39m==\u001b[39mmax_score]\n\u001b[0;32m     <a href='vscode-notebook-cell:/d%3A/Metro/Notebooks/metro%20model%20training.ipynb#Y116sZmlsZQ%3D%3D?line=27'>28</a>\u001b[0m     \u001b[39mprint\u001b[39m(\u001b[39mf\u001b[39m\u001b[39m\"\u001b[39m\u001b[39m{\u001b[39;00m\u001b[39m20\u001b[39m\u001b[39m*\u001b[39m\u001b[39m'\u001b[39m\u001b[39m*\u001b[39m\u001b[39m'\u001b[39m\u001b[39m}\u001b[39;00m\u001b[39m best model is \u001b[39m\u001b[39m{\u001b[39;00mbest_model[\u001b[39m0\u001b[39m]\u001b[39m}\u001b[39;00m\u001b[39m :\u001b[39m\u001b[39m{\u001b[39;00mmax_score\u001b[39m}\u001b[39;00m\u001b[39m \u001b[39m\u001b[39m{\u001b[39;00m\u001b[39m20\u001b[39m\u001b[39m*\u001b[39m\u001b[39m'\u001b[39m\u001b[39m*\u001b[39m\u001b[39m'\u001b[39m\u001b[39m}\u001b[39;00m\u001b[39m\"\u001b[39m)\n\u001b[1;32m---> <a href='vscode-notebook-cell:/d%3A/Metro/Notebooks/metro%20model%20training.ipynb#Y116sZmlsZQ%3D%3D?line=29'>30</a>\u001b[0m evaluate_model(models)\n",
      "\u001b[1;32md:\\Metro\\Notebooks\\metro model training.ipynb Cell 63\u001b[0m in \u001b[0;36mevaluate_model\u001b[1;34m(models)\u001b[0m\n\u001b[0;32m      <a href='vscode-notebook-cell:/d%3A/Metro/Notebooks/metro%20model%20training.ipynb#Y116sZmlsZQ%3D%3D?line=7'>8</a>\u001b[0m model\u001b[39m=\u001b[39mmodels[model_name]\n\u001b[0;32m      <a href='vscode-notebook-cell:/d%3A/Metro/Notebooks/metro%20model%20training.ipynb#Y116sZmlsZQ%3D%3D?line=8'>9</a>\u001b[0m model\u001b[39m.\u001b[39mfit(X_train,y_train)\n\u001b[1;32m---> <a href='vscode-notebook-cell:/d%3A/Metro/Notebooks/metro%20model%20training.ipynb#Y116sZmlsZQ%3D%3D?line=9'>10</a>\u001b[0m y_pred\u001b[39m=\u001b[39mmodel\u001b[39m.\u001b[39;49mpredict(X_test)\n\u001b[0;32m     <a href='vscode-notebook-cell:/d%3A/Metro/Notebooks/metro%20model%20training.ipynb#Y116sZmlsZQ%3D%3D?line=10'>11</a>\u001b[0m n\u001b[39m=\u001b[39m\u001b[39mlen\u001b[39m(y_pred)\n\u001b[0;32m     <a href='vscode-notebook-cell:/d%3A/Metro/Notebooks/metro%20model%20training.ipynb#Y116sZmlsZQ%3D%3D?line=11'>12</a>\u001b[0m \u001b[39m# evaluation\u001b[39;00m\n",
      "File \u001b[1;32mc:\\Users\\admin\\anaconda3\\lib\\site-packages\\sklearn\\neighbors\\_regression.py:229\u001b[0m, in \u001b[0;36mKNeighborsRegressor.predict\u001b[1;34m(self, X)\u001b[0m\n\u001b[0;32m    215\u001b[0m \u001b[39mdef\u001b[39;00m \u001b[39mpredict\u001b[39m(\u001b[39mself\u001b[39m, X):\n\u001b[0;32m    216\u001b[0m     \u001b[39m\"\"\"Predict the target for the provided data.\u001b[39;00m\n\u001b[0;32m    217\u001b[0m \n\u001b[0;32m    218\u001b[0m \u001b[39m    Parameters\u001b[39;00m\n\u001b[1;32m   (...)\u001b[0m\n\u001b[0;32m    227\u001b[0m \u001b[39m        Target values.\u001b[39;00m\n\u001b[0;32m    228\u001b[0m \u001b[39m    \"\"\"\u001b[39;00m\n\u001b[1;32m--> 229\u001b[0m     neigh_dist, neigh_ind \u001b[39m=\u001b[39m \u001b[39mself\u001b[39;49m\u001b[39m.\u001b[39;49mkneighbors(X)\n\u001b[0;32m    231\u001b[0m     weights \u001b[39m=\u001b[39m _get_weights(neigh_dist, \u001b[39mself\u001b[39m\u001b[39m.\u001b[39mweights)\n\u001b[0;32m    233\u001b[0m     _y \u001b[39m=\u001b[39m \u001b[39mself\u001b[39m\u001b[39m.\u001b[39m_y\n",
      "File \u001b[1;32mc:\\Users\\admin\\anaconda3\\lib\\site-packages\\sklearn\\neighbors\\_base.py:752\u001b[0m, in \u001b[0;36mKNeighborsMixin.kneighbors\u001b[1;34m(self, X, n_neighbors, return_distance)\u001b[0m\n\u001b[0;32m    749\u001b[0m     \u001b[39melse\u001b[39;00m:\n\u001b[0;32m    750\u001b[0m         kwds \u001b[39m=\u001b[39m \u001b[39mself\u001b[39m\u001b[39m.\u001b[39meffective_metric_params_\n\u001b[1;32m--> 752\u001b[0m     chunked_results \u001b[39m=\u001b[39m \u001b[39mlist\u001b[39;49m(\n\u001b[0;32m    753\u001b[0m         pairwise_distances_chunked(\n\u001b[0;32m    754\u001b[0m             X,\n\u001b[0;32m    755\u001b[0m             \u001b[39mself\u001b[39;49m\u001b[39m.\u001b[39;49m_fit_X,\n\u001b[0;32m    756\u001b[0m             reduce_func\u001b[39m=\u001b[39;49mreduce_func,\n\u001b[0;32m    757\u001b[0m             metric\u001b[39m=\u001b[39;49m\u001b[39mself\u001b[39;49m\u001b[39m.\u001b[39;49meffective_metric_,\n\u001b[0;32m    758\u001b[0m             n_jobs\u001b[39m=\u001b[39;49mn_jobs,\n\u001b[0;32m    759\u001b[0m             \u001b[39m*\u001b[39;49m\u001b[39m*\u001b[39;49mkwds,\n\u001b[0;32m    760\u001b[0m         )\n\u001b[0;32m    761\u001b[0m     )\n\u001b[0;32m    763\u001b[0m \u001b[39melif\u001b[39;00m \u001b[39mself\u001b[39m\u001b[39m.\u001b[39m_fit_method \u001b[39min\u001b[39;00m [\u001b[39m\"\u001b[39m\u001b[39mball_tree\u001b[39m\u001b[39m\"\u001b[39m, \u001b[39m\"\u001b[39m\u001b[39mkd_tree\u001b[39m\u001b[39m\"\u001b[39m]:\n\u001b[0;32m    764\u001b[0m     \u001b[39mif\u001b[39;00m issparse(X):\n",
      "File \u001b[1;32mc:\\Users\\admin\\anaconda3\\lib\\site-packages\\sklearn\\metrics\\pairwise.py:1717\u001b[0m, in \u001b[0;36mpairwise_distances_chunked\u001b[1;34m(X, Y, reduce_func, metric, n_jobs, working_memory, **kwds)\u001b[0m\n\u001b[0;32m   1715\u001b[0m \u001b[39melse\u001b[39;00m:\n\u001b[0;32m   1716\u001b[0m     X_chunk \u001b[39m=\u001b[39m X[sl]\n\u001b[1;32m-> 1717\u001b[0m D_chunk \u001b[39m=\u001b[39m pairwise_distances(X_chunk, Y, metric\u001b[39m=\u001b[39mmetric, n_jobs\u001b[39m=\u001b[39mn_jobs, \u001b[39m*\u001b[39m\u001b[39m*\u001b[39mkwds)\n\u001b[0;32m   1718\u001b[0m \u001b[39mif\u001b[39;00m (X \u001b[39mis\u001b[39;00m Y \u001b[39mor\u001b[39;00m Y \u001b[39mis\u001b[39;00m \u001b[39mNone\u001b[39;00m) \u001b[39mand\u001b[39;00m PAIRWISE_DISTANCE_FUNCTIONS\u001b[39m.\u001b[39mget(\n\u001b[0;32m   1719\u001b[0m     metric, \u001b[39mNone\u001b[39;00m\n\u001b[0;32m   1720\u001b[0m ) \u001b[39mis\u001b[39;00m euclidean_distances:\n\u001b[0;32m   1721\u001b[0m     \u001b[39m# zeroing diagonal, taking care of aliases of \"euclidean\",\u001b[39;00m\n\u001b[0;32m   1722\u001b[0m     \u001b[39m# i.e. \"l2\"\u001b[39;00m\n\u001b[0;32m   1723\u001b[0m     D_chunk\u001b[39m.\u001b[39mflat[sl\u001b[39m.\u001b[39mstart :: _num_samples(X) \u001b[39m+\u001b[39m \u001b[39m1\u001b[39m] \u001b[39m=\u001b[39m \u001b[39m0\u001b[39m\n",
      "File \u001b[1;32mc:\\Users\\admin\\anaconda3\\lib\\site-packages\\sklearn\\metrics\\pairwise.py:1889\u001b[0m, in \u001b[0;36mpairwise_distances\u001b[1;34m(X, Y, metric, n_jobs, force_all_finite, **kwds)\u001b[0m\n\u001b[0;32m   1886\u001b[0m         \u001b[39mreturn\u001b[39;00m distance\u001b[39m.\u001b[39msquareform(distance\u001b[39m.\u001b[39mpdist(X, metric\u001b[39m=\u001b[39mmetric, \u001b[39m*\u001b[39m\u001b[39m*\u001b[39mkwds))\n\u001b[0;32m   1887\u001b[0m     func \u001b[39m=\u001b[39m partial(distance\u001b[39m.\u001b[39mcdist, metric\u001b[39m=\u001b[39mmetric, \u001b[39m*\u001b[39m\u001b[39m*\u001b[39mkwds)\n\u001b[1;32m-> 1889\u001b[0m \u001b[39mreturn\u001b[39;00m _parallel_pairwise(X, Y, func, n_jobs, \u001b[39m*\u001b[39m\u001b[39m*\u001b[39mkwds)\n",
      "File \u001b[1;32mc:\\Users\\admin\\anaconda3\\lib\\site-packages\\sklearn\\metrics\\pairwise.py:1430\u001b[0m, in \u001b[0;36m_parallel_pairwise\u001b[1;34m(X, Y, func, n_jobs, **kwds)\u001b[0m\n\u001b[0;32m   1427\u001b[0m X, Y, dtype \u001b[39m=\u001b[39m _return_float_dtype(X, Y)\n\u001b[0;32m   1429\u001b[0m \u001b[39mif\u001b[39;00m effective_n_jobs(n_jobs) \u001b[39m==\u001b[39m \u001b[39m1\u001b[39m:\n\u001b[1;32m-> 1430\u001b[0m     \u001b[39mreturn\u001b[39;00m func(X, Y, \u001b[39m*\u001b[39m\u001b[39m*\u001b[39mkwds)\n\u001b[0;32m   1432\u001b[0m \u001b[39m# enforce a threading backend to prevent data communication overhead\u001b[39;00m\n\u001b[0;32m   1433\u001b[0m fd \u001b[39m=\u001b[39m delayed(_dist_wrapper)\n",
      "File \u001b[1;32mc:\\Users\\admin\\anaconda3\\lib\\site-packages\\sklearn\\metrics\\pairwise.py:330\u001b[0m, in \u001b[0;36meuclidean_distances\u001b[1;34m(X, Y, Y_norm_squared, squared, X_norm_squared)\u001b[0m\n\u001b[0;32m    324\u001b[0m     \u001b[39mif\u001b[39;00m Y_norm_squared\u001b[39m.\u001b[39mshape \u001b[39m!=\u001b[39m (\u001b[39m1\u001b[39m, Y\u001b[39m.\u001b[39mshape[\u001b[39m0\u001b[39m]):\n\u001b[0;32m    325\u001b[0m         \u001b[39mraise\u001b[39;00m \u001b[39mValueError\u001b[39;00m(\n\u001b[0;32m    326\u001b[0m             \u001b[39mf\u001b[39m\u001b[39m\"\u001b[39m\u001b[39mIncompatible dimensions for Y of shape \u001b[39m\u001b[39m{\u001b[39;00mY\u001b[39m.\u001b[39mshape\u001b[39m}\u001b[39;00m\u001b[39m and \u001b[39m\u001b[39m\"\u001b[39m\n\u001b[0;32m    327\u001b[0m             \u001b[39mf\u001b[39m\u001b[39m\"\u001b[39m\u001b[39mY_norm_squared of shape \u001b[39m\u001b[39m{\u001b[39;00moriginal_shape\u001b[39m}\u001b[39;00m\u001b[39m.\u001b[39m\u001b[39m\"\u001b[39m\n\u001b[0;32m    328\u001b[0m         )\n\u001b[1;32m--> 330\u001b[0m \u001b[39mreturn\u001b[39;00m _euclidean_distances(X, Y, X_norm_squared, Y_norm_squared, squared)\n",
      "File \u001b[1;32mc:\\Users\\admin\\anaconda3\\lib\\site-packages\\sklearn\\metrics\\pairwise.py:371\u001b[0m, in \u001b[0;36m_euclidean_distances\u001b[1;34m(X, Y, X_norm_squared, Y_norm_squared, squared)\u001b[0m\n\u001b[0;32m    368\u001b[0m     distances \u001b[39m=\u001b[39m _euclidean_distances_upcast(X, XX, Y, YY)\n\u001b[0;32m    369\u001b[0m \u001b[39melse\u001b[39;00m:\n\u001b[0;32m    370\u001b[0m     \u001b[39m# if dtype is already float64, no need to chunk and upcast\u001b[39;00m\n\u001b[1;32m--> 371\u001b[0m     distances \u001b[39m=\u001b[39m \u001b[39m-\u001b[39;49m\u001b[39m2\u001b[39;49m \u001b[39m*\u001b[39;49m safe_sparse_dot(X, Y\u001b[39m.\u001b[39;49mT, dense_output\u001b[39m=\u001b[39;49m\u001b[39mTrue\u001b[39;49;00m)\n\u001b[0;32m    372\u001b[0m     distances \u001b[39m+\u001b[39m\u001b[39m=\u001b[39m XX\n\u001b[0;32m    373\u001b[0m     distances \u001b[39m+\u001b[39m\u001b[39m=\u001b[39m YY\n",
      "\u001b[1;31mMemoryError\u001b[0m: Unable to allocate 1.00 GiB for an array with shape (3978, 33735) and data type float64"
     ]
    }
   ],
   "source": [
    "import numpy as np\n",
    "models={\"Lasso\":Lasso(),\"Ridge\":Ridge(),\"RandomForest\":RandomForestRegressor(),\n",
    "        \"GradientBoosting\":GradientBoostingRegressor(),\"Adaboost\":AdaBoostRegressor(),\"KNN-regressor\":KNeighborsRegressor()}\n",
    "scores={}\n",
    "def evaluate_model(models):\n",
    "    for i in range(len(models)):\n",
    "        model_name=list(models.keys())[i]\n",
    "        model=models[model_name]\n",
    "        model.fit(X_train,y_train)\n",
    "        y_pred=model.predict(X_test)\n",
    "        n=len(y_pred)\n",
    "        # evaluation\n",
    "        r2=r2_score(y_test,y_pred)\n",
    "        mse=mean_squared_error(y_test,y_pred)\n",
    "        adj_r_squared = 1 - (1 - r2) * (n - 1) / (n - X_train.shape[1] - 1)\n",
    "        scores[model_name]=adj_r_squared\n",
    "        \n",
    "        print(f\"For Model : {model_name}\\n\")\n",
    "        print(f\"R2 square :{r2}\")\n",
    "        print(f\"mean square error :{mse}\")\n",
    "        print(f\"Root mean Sq error :{np.sqrt(mse)}\")\n",
    "        print(f\"adjusted R2 square :{adj_r_squared}\")\n",
    "        print(50*\"*\")\n",
    "        print(\"\\n\")\n",
    "    max_score=max(list(scores.values()))\n",
    "    best_model=[key for key ,value in scores.items() if value==max_score]\n",
    "    \n",
    "    print(f\"{20*'*'} best model is {best_model[0]} :{max_score} {20*'*'}\")\n",
    "        \n",
    "evaluate_model(models)"
   ]
  },
  {
   "cell_type": "code",
   "execution_count": null,
   "id": "908c6f31-1c6b-492e-b6ac-3461f5a29506",
   "metadata": {},
   "outputs": [],
   "source": []
  },
  {
   "cell_type": "code",
   "execution_count": null,
   "id": "470b19ca-c49d-40df-bd32-e0136c8fce22",
   "metadata": {},
   "outputs": [],
   "source": []
  },
  {
   "cell_type": "code",
   "execution_count": null,
   "id": "87d3e0a6",
   "metadata": {},
   "outputs": [],
   "source": []
  },
  {
   "cell_type": "code",
   "execution_count": 42,
   "id": "d1bc26ef-68ae-4736-8b13-2e9d19e254f1",
   "metadata": {},
   "outputs": [
    {
     "data": {
      "image/png": "[encoded data removed]",
      "text/plain": [
       "<Figure size 432x288 with 1 Axes>"
      ]
     },
     "metadata": {
      "needs_background": "light"
     },
     "output_type": "display_data"
    }
   ],
   "source": [
    "model=RandomForestRegressor()\n",
    "model.fit(X_train,y_train)\n",
    "y_pred=model.predict(X_test)\n",
    "\n",
    "sns.scatterplot(x=y_test,y=y_pred)\n",
    "plt.plot([min(y_pred), max(y_pred)], [min(y_pred), max(y_pred)], 'k--', lw=2, label=\"Perfect Fit Line\")\n",
    "plt.xlabel(\"Predicted Values\")\n",
    "plt.ylabel(\"Actual Values\")\n",
    "plt.legend()\n",
    "plt.title(\"Actual vs. Predicted Plot\")\n",
    "plt.show()\n"
   ]
  },
  {
   "cell_type": "markdown",
   "id": "f262292d-31b2-4705-bd22-7b81957049bd",
   "metadata": {},
   "source": [
    "### Feature importance"
   ]
  },
  {
   "cell_type": "code",
   "execution_count": 43,
   "id": "fe227f50-5435-4251-b6ad-72ce3789f6a3",
   "metadata": {},
   "outputs": [],
   "source": [
    "#mportances = model.feature_importances_\n",
    "#std = np.std([tree.feature_importances_ for tree in model.estimators_], axis=0)"
   ]
  },
  {
   "cell_type": "code",
   "execution_count": 45,
   "id": "234d0c19-570e-43a4-8a62-20015a401e65",
   "metadata": {},
   "outputs": [],
   "source": [
    "#feature_names=list(pipeline.get_feature_names_out())\n",
    "#forest_importances = pd.Series(importances, index=feature_names)\n",
    "\n",
    "#fig, ax = plt.subplots()\n",
    "#forest_importances.plot.barh(yerr=std, ax=ax)"
   ]
  },
  {
   "cell_type": "code",
   "execution_count": null,
   "id": "143c70ff-aa0e-4602-8641-0ff5adc40fcf",
   "metadata": {},
   "outputs": [],
   "source": []
  },
  {
   "cell_type": "code",
   "execution_count": null,
   "id": "e393c835-f202-4b59-9bbd-2a5ff65bdd9e",
   "metadata": {},
   "outputs": [],
   "source": []
  },
  {
   "cell_type": "code",
   "execution_count": null,
   "id": "21b90d3b-cf9b-4239-959a-bbc7c1d05434",
   "metadata": {},
   "outputs": [],
   "source": [
    "#pip install xgboost"
   ]
  },
  {
   "cell_type": "code",
   "execution_count": null,
   "id": "2292bcb0-ea39-4477-bb5a-b758343612c4",
   "metadata": {},
   "outputs": [],
   "source": [
    "#from xgboost import XGBRegressor,XGBRFRegressor"
   ]
  },
  {
   "cell_type": "code",
   "execution_count": null,
   "id": "65c24bd4-a36d-481f-8b58-b72941c34e99",
   "metadata": {},
   "outputs": [],
   "source": [
    "#model=XGBRegressor(n_estimators=100,  # Number of boosting rounds (trees)\n",
    " #                   learning_rate=0.1,  # Step size shrinkage to prevent overfitting\n",
    "  #                  max_depth=3,  # Maximum depth of each tree\n",
    "   #                 objective='reg:squarederror')"
   ]
  },
  {
   "cell_type": "code",
   "execution_count": null,
   "id": "8676ab0d-0004-49e5-ba52-dc9eac54571c",
   "metadata": {},
   "outputs": [],
   "source": [
    "#model.fit(X_train,y_train)"
   ]
  },
  {
   "cell_type": "code",
   "execution_count": null,
   "id": "8333741f-2205-4854-8f72-e818bc8bca59",
   "metadata": {},
   "outputs": [],
   "source": [
    "#y_pred=model.predict(X_test)"
   ]
  },
  {
   "cell_type": "code",
   "execution_count": null,
   "id": "92edf857-df21-4ebb-a19e-4d1cf403c290",
   "metadata": {},
   "outputs": [],
   "source": [
    "#r2_score(y_true=y_test,y_pred=y_pred)"
   ]
  },
  {
   "cell_type": "code",
   "execution_count": null,
   "id": "d01075ea-2fb5-4fab-84a4-9763ef28737e",
   "metadata": {},
   "outputs": [],
   "source": []
  },
  {
   "cell_type": "markdown",
   "id": "06bb89e8-8e59-49d5-abad-1e0e2c0982fd",
   "metadata": {},
   "source": [
    "# Hyperparameter Tuning"
   ]
  },
  {
   "cell_type": "code",
   "execution_count": 56,
   "id": "9a73e92b-b936-4d4c-b638-0f3ecee67286",
   "metadata": {},
   "outputs": [],
   "source": [
    "models={\"RandomForestRegressor\":RandomForestRegressor(oob_score=True),\n",
    "        \"GradientBoostingRegressor\":GradientBoostingRegressor(),\"AdaBoostRegressor\":AdaBoostRegressor(),\"KNN-regressor\":KNeighborsRegressor()}\n",
    "\n",
    "params={\"RandomForestRegressor\":{\"criterion\":['squared_error', 'absolute_error'],\"max_features\":['sqrt', 'log2']},\n",
    "        \n",
    "       \"GradientBoostingRegressor\":{'loss':['squared_error', 'absolute_error', 'huber'],'learning_rate':[0.02,0.03,0.1,0.2],\n",
    "                                  \"n_estimators\":[70,100,150,180] },\n",
    "        \"AdaBoostRegressor\":{\"n_estimators\":[50,100,150],\"learning_rate\":[0.01,0.03,0.1,0.2],\"loss\":['linear', 'square', 'exponential']},\n",
    "       \n",
    "       \"KNN-regressor\":{'n_neighbors':[5,6,7,9],\"algorithm\":['auto', 'ball_tree', 'kd_tree']}}"
   ]
  },
  {
   "cell_type": "code",
   "execution_count": 48,
   "id": "c75c81a8-8d11-4ace-b828-410dba160305",
   "metadata": {},
   "outputs": [],
   "source": [
    "from sklearn.model_selection import RandomizedSearchCV"
   ]
  },
  {
   "cell_type": "code",
   "execution_count": 57,
   "id": "7a06be8d-3d85-4d12-a54e-95ccc410d7ef",
   "metadata": {},
   "outputs": [],
   "source": [
    "## models={\"GradientBoostingRegressor\":GradientBoostingRegressor()}\n",
    "## params={\"GradientBoostingRegressor\":{\"loss\":['squared_error', 'absolute_error'],'learning_rate':[0.02,0.03,0.09]}}\n",
    "def Evaluate_models(models,params):\n",
    "    Report={}\n",
    "    MODELS={}\n",
    "    for i in range(len(models)):\n",
    "        \n",
    "        model_name=list(models.keys())[i]\n",
    "        model=models[model_name]\n",
    "        param=params[model_name]\n",
    "        Random_cv=RandomizedSearchCV(estimator=model,param_distributions=param,cv=2)\n",
    "        Random_cv.fit(X_train,y_train)\n",
    "        model.set_params(**Random_cv.best_params_)\n",
    "        print(Random_cv.best_params_)\n",
    "        n=len(y_test)\n",
    "        model.fit(X_train,y_train)\n",
    "        MODELS[model_name]=model.set_params(**Random_cv.best_params_)\n",
    "        y_pred=model.predict(X_test)\n",
    "        r2=r2_score(y_true=y_test,y_pred=y_pred)\n",
    "        adj_r_squared = 1 - (1 - r2) * (n - 1) / (n - X_train.shape[1] - 1)\n",
    "        \n",
    "        Report[model_name]=adj_r_squared\n",
    "        \n",
    "        return Report,MODELS"
   ]
  },
  {
   "cell_type": "code",
   "execution_count": 59,
   "id": "f7167e8e-672e-48bc-aa15-14a0270c4297",
   "metadata": {},
   "outputs": [],
   "source": [
    "Report,MODELS=Evaluate_models(models,params);Report,MODELS"
   ]
  },
  {
   "cell_type": "code",
   "execution_count": 51,
   "id": "391685cd-90e0-4bf9-a1c0-aae22d41dbcd",
   "metadata": {},
   "outputs": [],
   "source": [
    "#m=MODELS[\"GradientBoostingRegressor\"]"
   ]
  },
  {
   "cell_type": "code",
   "execution_count": 53,
   "id": "617e88bb-06db-44d6-bdd4-c323f6799c6e",
   "metadata": {},
   "outputs": [],
   "source": [
    "#m=models[\"GradientBoostingRegressor\"]"
   ]
  },
  {
   "cell_type": "code",
   "execution_count": 60,
   "id": "583d0bdc-d03e-4041-836a-f9af2a0784cb",
   "metadata": {},
   "outputs": [],
   "source": [
    "#m.predict(X_test)"
   ]
  },
  {
   "cell_type": "code",
   "execution_count": 61,
   "id": "17d1c53f-ee51-41e4-9bac-82608cc4861c",
   "metadata": {},
   "outputs": [],
   "source": [
    "#m.get_params()"
   ]
  },
  {
   "cell_type": "code",
   "execution_count": 46,
   "id": "a69a40f4",
   "metadata": {},
   "outputs": [],
   "source": [
    "data.to_csv(\"../Notebooks/data/metro.csv\",index=False)"
   ]
  }
 ],
 "metadata": {
  "kernelspec": {
   "display_name": "Python 3.9.12 ('base')",
   "language": "python",
   "name": "python3"
  },
  "language_info": {
   "codemirror_mode": {
    "name": "ipython",
    "version": 3
   },
   "file_extension": ".py",
   "mimetype": "text/x-python",
   "name": "python",
   "nbconvert_exporter": "python",
   "pygments_lexer": "ipython3",
   "version": "3.9.12"
  },
  "vscode": {
   "interpreter": {
    "hash": "610a6f344c2137faf927ea819c63f6cee33a2c04455044b28099f39fe9722347"
   }
  }
 },
 "nbformat": 4,
 "nbformat_minor": 5
}
